{
 "cells": [
  {
   "cell_type": "markdown",
   "metadata": {},
   "source": [
    "## Dataset sanity checks for Classification\n",
    "\n",
    "\n",
    "### The solution tests and validates the input Dataset sanity requirements with respect to Classification modeling.\n",
    "\n",
    "This sample notebook shows you how to deploy Dataset sanity checks for Classification using Amazon SageMaker.\n",
    "\n",
    "> **Note**: This is a reference notebook and it cannot run unless you make changes suggested in the notebook.\n",
    "\n",
    "#### Pre-requisites:\n",
    "1. **Note**: This notebook contains elements which render correctly in Jupyter interface. Open this notebook from an Amazon SageMaker Notebook Instance or Amazon SageMaker Studio.\n",
    "1. Ensure that IAM role used has **AmazonSageMakerFullAccess**\n",
    "1. To deploy this ML model successfully, ensure that:\n",
    "    1. Either your IAM role has these three permissions and you have authority to make AWS Marketplace subscriptions in the AWS account used: \n",
    "        1. **aws-marketplace:ViewSubscriptions**\n",
    "        1. **aws-marketplace:Unsubscribe**\n",
    "        1. **aws-marketplace:Subscribe**  \n",
    "    2. or your AWS account has a subscription to Dataset sanity checks for Classification. If so, skip step: [Subscribe to the model package](#1.-Subscribe-to-the-model-package)\n",
    "\n",
    "#### Contents:\n",
    "1. [Subscribe to the model package](#1.-Subscribe-to-the-model-package)\n",
    "2. [Create an endpoint and perform real-time inference](#2.-Create-an-endpoint-and-perform-real-time-inference)\n",
    "   1. [Create an endpoint](#A.-Create-an-endpoint)\n",
    "   2. [Create input payload](#B.-Create-input-payload)\n",
    "   3. [Perform real-time inference](#C.-Perform-real-time-inference)\n",
    "   4. [Visualize output](#D.-Visualize-output)\n",
    "   5. [Delete the endpoint](#E.-Delete-the-endpoint)\n",
    "3. [Perform batch inference](#3.-Perform-batch-inference) \n",
    "4. [Clean-up](#4.-Clean-up)\n",
    "    1. [Delete the model](#A.-Delete-the-model)\n",
    "    2. [Unsubscribe to the listing (optional)](#B.-Unsubscribe-to-the-listing-(optional))\n",
    "    \n",
    "\n",
    "#### Usage instructions\n",
    "You can run this notebook one cell at a time (By using Shift+Enter for running a cell)."
   ]
  },
  {
   "cell_type": "markdown",
   "metadata": {},
   "source": [
    "### 1. Subscribe to the model package"
   ]
  },
  {
   "cell_type": "markdown",
   "metadata": {},
   "source": [
    "To subscribe to the model package:\n",
    "1. Open the model package listing page Product Review Dataset sanity checks for Classification. \n",
    "1. On the AWS Marketplace listing, click on the **Continue to subscribe** button.\n",
    "1. On the **Subscribe to this software** page, review and click on **\"Accept Offer\"** if you and your organization agrees with EULA, pricing, and support terms. \n",
    "1. Once you click on **Continue to configuration button** and then choose a **region**, you will see a **Product Arn** displayed. This is the model package ARN that you need to specify while creating a deployable model using Boto3. Copy the ARN corresponding to your region and specify the same in the following cell."
   ]
  },
  {
   "cell_type": "code",
   "execution_count": 15,
   "metadata": {},
   "outputs": [],
   "source": [
    "model_package_arn= \"\""
   ]
  },
  {
   "cell_type": "code",
   "execution_count": 16,
   "metadata": {},
   "outputs": [],
   "source": [
    "import base64\n",
    "import json \n",
    "import uuid\n",
    "from sagemaker import ModelPackage\n",
    "import sagemaker as sage\n",
    "from sagemaker import get_execution_role\n",
    "from sagemaker import ModelPackage\n",
    "from urllib.parse import urlparse\n",
    "import boto3\n",
    "from IPython.display import Image\n",
    "from PIL import Image as ImageEdit\n",
    "import urllib.request\n",
    "import numpy as np"
   ]
  },
  {
   "cell_type": "code",
   "execution_count": 17,
   "metadata": {},
   "outputs": [
    {
     "data": {
      "text/plain": [
       "'sagemaker-us-east-2-786796469737'"
      ]
     },
     "execution_count": 17,
     "metadata": {},
     "output_type": "execute_result"
    }
   ],
   "source": [
    "role = get_execution_role()\n",
    "\n",
    "sagemaker_session = sage.Session()\n",
    "\n",
    "bucket=sagemaker_session.default_bucket()\n",
    "bucket"
   ]
  },
  {
   "cell_type": "markdown",
   "metadata": {},
   "source": [
    "### 2. Create an endpoint and perform real-time inference"
   ]
  },
  {
   "cell_type": "markdown",
   "metadata": {},
   "source": [
    "If you want to understand how real-time inference with Amazon SageMaker works, see [Documentation](https://docs.aws.amazon.com/sagemaker/latest/dg/how-it-works-hosting.html)."
   ]
  },
  {
   "cell_type": "code",
   "execution_count": 20,
   "metadata": {},
   "outputs": [],
   "source": [
    "model_name='datasanitycheck'\n",
    "\n",
    "content_type='application/zip'\n",
    "\n",
    "real_time_inference_instance_type='ml.m5.large'\n",
    "batch_transform_inference_instance_type='ml.m5.large'"
   ]
  },
  {
   "cell_type": "markdown",
   "metadata": {},
   "source": [
    "#### A. Create an endpoint"
   ]
  },
  {
   "cell_type": "code",
   "execution_count": 21,
   "metadata": {},
   "outputs": [
    {
     "name": "stdout",
     "output_type": "stream",
     "text": [
      "----!"
     ]
    }
   ],
   "source": [
    "\n",
    "def predict_wrapper(endpoint, session):\n",
    "    return sage.predictor.Predictor(endpoint, session,content_type)\n",
    "\n",
    "#create a deployable model from the model package.\n",
    "model = ModelPackage(role=role,\n",
    "                    model_package_arn=model_package_arn,\n",
    "                    sagemaker_session=sagemaker_session,\n",
    "                    predictor_cls=predict_wrapper)\n",
    "\n",
    "#Deploy the model\n",
    "predictor = model.deploy(1, real_time_inference_instance_type, endpoint_name=model_name)"
   ]
  },
  {
   "cell_type": "markdown",
   "metadata": {},
   "source": [
    "Once endpoint has been created, you would be able to perform real-time inference."
   ]
  },
  {
   "cell_type": "markdown",
   "metadata": {},
   "source": [
    "#### B. Create input payload"
   ]
  },
  {
   "cell_type": "code",
   "execution_count": 26,
   "metadata": {},
   "outputs": [],
   "source": [
    "file_name = './Input.zip'"
   ]
  },
  {
   "cell_type": "markdown",
   "metadata": {},
   "source": [
    "<Add code snippet that shows the payload contents>"
   ]
  },
  {
   "cell_type": "markdown",
   "metadata": {},
   "source": [
    "#### C. Perform real-time inference"
   ]
  },
  {
   "cell_type": "code",
   "execution_count": 29,
   "metadata": {},
   "outputs": [
    {
     "name": "stdout",
     "output_type": "stream",
     "text": [
      "{\r\n",
      "    \"ContentType\": \"application/json\",\r\n",
      "    \"InvokedProductionVariant\": \"AllTraffic\"\r\n",
      "}\r\n"
     ]
    }
   ],
   "source": [
    "!aws sagemaker-runtime invoke-endpoint \\\n",
    "    --endpoint-name $model_name \\\n",
    "    --body fileb://$file_name \\\n",
    "    --content-type $content_type \\\n",
    "    --region $sagemaker_session.boto_region_name \\\n",
    "    output.json"
   ]
  },
  {
   "cell_type": "markdown",
   "metadata": {},
   "source": [
    "#### D. Visualize output"
   ]
  },
  {
   "cell_type": "code",
   "execution_count": 37,
   "metadata": {},
   "outputs": [
    {
     "name": "stdout",
     "output_type": "stream",
     "text": [
      "{'Data_Duplication - Train Dataset': Data Duplicates: 0.0, 'Data_Duplication - Test Dataset': Data Duplicates: 0.0, 'single_value_cols - Train Dataset': Single Value in Column: {'PassengerId': 655, 'Pclass': 3, 'Name': 637, 'Sex': 2, 'Age': 79, 'SibSp': 7, 'Parch': 7, 'Ticket': 515, 'Fare': 212, 'Cabin': 125, 'Embarked': 3, 'Survived': 2}, 'single_value_cols - Test Dataset': Single Value in Column: {'PassengerId': 281, 'Pclass': 3, 'Name': 279, 'Sex': 2, 'Age': 68, 'SibSp': 7, 'Parch': 6, 'Ticket': 251, 'Fare': 133, 'Cabin': 51, 'Embarked': 3, 'Survived': 2}, 'Mixed Data types - Train Dataset': Mixed Data Types: {'PassengerId': {}, 'Pclass': {}, 'Name': {}, 'Sex': {}, 'Age': {}, 'SibSp': {}, 'Parch': {}, 'Ticket': {'strings': 0.2534351145038168, 'numbers': 0.7465648854961832, 'strings_examples': {'S.O.C. 14879', 'A/5 2817', 'SW/PP 751'}, 'numbers_examples': {'113505', '250647', '374910'}}, 'Fare': {}, 'Cabin': {}, 'Embarked': {}, 'Survived': {}}, 'Mixed Data types - Test Dataset': Mixed Data Types: {'PassengerId': {}, 'Pclass': {}, 'Name': {}, 'Sex': {}, 'Age': {}, 'SibSp': {}, 'Parch': {}, 'Ticket': {'strings': 0.25622775800711745, 'numbers': 0.7437722419928826, 'strings_examples': {'W./C. 6608', 'PC 17756', 'PC 17485'}, 'numbers_examples': {'3101278', '2661', '29750'}}, 'Fare': {}, 'Cabin': {}, 'Embarked': {}, 'Survived': {}}, 'TrainTest Label Drift': Train Test Label Drift: {'Drift score': 0.0, 'Method': \"Cramer's V\"}}\n"
     ]
    }
   ],
   "source": [
    "import json\n",
    "\n",
    "# read file\n",
    "with open('output.json', 'r') as myfile:\n",
    "    data=myfile.read()\n",
    "\n",
    "print(data)"
   ]
  },
  {
   "cell_type": "markdown",
   "metadata": {},
   "source": [
    "#### E. Delete the endpoint"
   ]
  },
  {
   "cell_type": "markdown",
   "metadata": {},
   "source": [
    "Now that you have successfully performed a real-time inference, you do not need the endpoint any more. You can terminate the endpoint to avoid being charged."
   ]
  },
  {
   "cell_type": "code",
   "execution_count": 38,
   "metadata": {},
   "outputs": [],
   "source": [
    "predictor=sage.predictor.Predictor(model_name, sagemaker_session,content_type)\n",
    "predictor.delete_endpoint(delete_endpoint_config=True)"
   ]
  },
  {
   "cell_type": "markdown",
   "metadata": {},
   "source": [
    "### 3. Perform batch inference"
   ]
  },
  {
   "cell_type": "markdown",
   "metadata": {},
   "source": [
    "In this section, you will perform batch inference using multiple input payloads together. If you are not familiar with batch transform, and want to learn more, see these links:\n",
    "1. [How it works](https://docs.aws.amazon.com/sagemaker/latest/dg/ex1-batch-transform.html)\n",
    "2. [How to run a batch transform job](https://docs.aws.amazon.com/sagemaker/latest/dg/how-it-works-batch.html)"
   ]
  },
  {
   "cell_type": "code",
   "execution_count": 41,
   "metadata": {},
   "outputs": [
    {
     "name": "stdout",
     "output_type": "stream",
     "text": [
      "Transform input uploaded to s3://sagemaker-us-east-2-786796469737/datasanitycheck/Input.zip\n"
     ]
    }
   ],
   "source": [
    "#upload the batch-transform job input files to S3\n",
    "transform_input_folder = \"Input.zip\"\n",
    "transform_input = sagemaker_session.upload_data(transform_input_folder, key_prefix=model_name) \n",
    "print(\"Transform input uploaded to \" + transform_input)"
   ]
  },
  {
   "cell_type": "code",
   "execution_count": 42,
   "metadata": {},
   "outputs": [
    {
     "name": "stdout",
     "output_type": "stream",
     "text": [
      "........................\n",
      "\u001b[34m/usr/local/lib/python3.6/dist-packages/deepchecks/__init__.py:131: DeprecationWarning:\u001b[0m\n",
      "\u001b[34mAbility to import base tabular functionality from the `deepchecks` package directly is deprecated, please import from `deepchecks.tabular` instead\u001b[0m\n",
      "\u001b[34m/usr/local/lib/python3.6/dist-packages/deepchecks/checks.py:24: DeprecationWarning:\u001b[0m\n",
      "\u001b[34mAbility to import tabular checks from the `deepchecks.checks` is deprecated, please import from `deepchecks.tabular.checks` instead\u001b[0m\n",
      "\u001b[34m/usr/local/lib/python3.6/dist-packages/deepchecks/__init__.py:131: DeprecationWarning:\u001b[0m\n",
      "\u001b[34mAbility to import base tabular functionality from the `deepchecks` package directly is deprecated, please import from `deepchecks.tabular` instead\n",
      " * Serving Flask app 'serve' (lazy loading)\n",
      " * Environment: production\n",
      "   WARNING: This is a development server. Do not use it in a production deployment.\n",
      "   Use a production WSGI server instead.\n",
      " * Debug mode: off\n",
      " * Running on all addresses.\n",
      "   WARNING: This is a development server. Do not use it in a production deployment.\n",
      " * Running on http://169.254.255.131:8080/ (Press CTRL+C to quit)\u001b[0m\n",
      "\u001b[34m169.254.255.130 - - [06/Jul/2022 09:12:19] \"GET /ping HTTP/1.1\" 200 -\u001b[0m\n",
      "\u001b[34m169.254.255.130 - - [06/Jul/2022 09:12:19] \"#033[33mGET /execution-parameters HTTP/1.1#033[0m\" 404 -\u001b[0m\n",
      "\u001b[34mb'{\\'Data_Duplication - Train Dataset\\': Data Duplicates: 0.0, \\'Data_Duplication - Test Dataset\\': Data Duplicates: 0.0, \\'single_value_cols - Train Dataset\\': Single Value in Column: {\\'PassengerId\\': 655, \\'Pclass\\': 3, \\'Name\\': 637, \\'Sex\\': 2, \\'Age\\': 79, \\'SibSp\\': 7, \\'Parch\\': 7, \\'Ticket\\': 515, \\'Fare\\': 212, \\'Cabin\\': 125, \\'Embarked\\': 3, \\'Survived\\': 2}, \\'single_value_cols - Test Dataset\\': Single Value in Column: {\\'PassengerId\\': 281, \\'Pclass\\': 3, \\'Name\\': 279, \\'Sex\\': 2, \\'Age\\': 68, \\'SibSp\\': 7, \\'Parch\\': 6, \\'Ticket\\': 251, \\'Fare\\': 133, \\'Cabin\\': 51, \\'Embarked\\': 3, \\'Survived\\': 2}, \\'Mixed Data types - Train Dataset\\': Mixed Data Types: {\\'PassengerId\\': {}, \\'Pclass\\': {}, \\'Name\\': {}, \\'Sex\\': {}, \\'Age\\': {}, \\'SibSp\\': {}, \\'Parch\\': {}, \\'Ticket\\': {\\'strings\\': 0.2534351145038168, \\'numbers\\': 0.7465648854961832, \\'strings_examples\\': {\\'A/5 2817\\', \\'SW/PP 751\\', \\'S.O.C. 14879\\'}, \\'numbers_examples\\': {\\'250647\\', \\'374910\\', \\'113505\\'}}, \\'Fare\\': {}, \\'Cabin\\': {}, \\'Embarked\\': {}, \\'Survived\\': {}}, \\'Mixed Data types - Test Dataset\\': Mixed Data Types: {\\'PassengerId\\': {}, \\'Pclass\\': {}, \\'Name\\': {}, \\'Sex\\': {}, \\'Age\\': {}, \\'SibSp\\': {}, \\'Parch\\': {}, \\'Ticket\\': {\\'strings\\': 0.25622775800711745, \\'numbers\\': 0.7437722419928826, \\'strings_examples\\': {\\'W./C. 6608\\', \\'PC 17756\\', \\'PC 17485\\'}, \\'numbers_examples\\': {\\'29750\\', \\'2661\\', \\'3101278\\'}}, \\'Fare\\': {}, \\'Cabin\\': {}, \\'Embarked\\': {}, \\'Survived\\': {}}, \\'TrainTest Label Drift\\': Train Test Label Drift: {\\'Drift score\\': 0.0, \\'Method\\': \"Cramer\\'s V\"}}'\u001b[0m\n",
      "\u001b[34m169.254.255.130 - - [06/Jul/2022 09:12:20] \"POST /invocations HTTP/1.1\" 200 -\u001b[0m\n",
      "\u001b[32m2022-07-06T09:12:19.886:[sagemaker logs]: MaxConcurrentTransforms=1, MaxPayloadInMB=6, BatchStrategy=MULTI_RECORD\u001b[0m\n",
      "\u001b[34m/usr/local/lib/python3.6/dist-packages/deepchecks/__init__.py:131: DeprecationWarning:\u001b[0m\n",
      "\u001b[34mAbility to import base tabular functionality from the `deepchecks` package directly is deprecated, please import from `deepchecks.tabular` instead\u001b[0m\n",
      "\u001b[34m/usr/local/lib/python3.6/dist-packages/deepchecks/checks.py:24: DeprecationWarning:\u001b[0m\n",
      "\u001b[34mAbility to import tabular checks from the `deepchecks.checks` is deprecated, please import from `deepchecks.tabular.checks` instead\u001b[0m\n",
      "\u001b[34m/usr/local/lib/python3.6/dist-packages/deepchecks/__init__.py:131: DeprecationWarning:\u001b[0m\n",
      "\u001b[35m/usr/local/lib/python3.6/dist-packages/deepchecks/__init__.py:131: DeprecationWarning:\u001b[0m\n",
      "\u001b[35mAbility to import base tabular functionality from the `deepchecks` package directly is deprecated, please import from `deepchecks.tabular` instead\u001b[0m\n",
      "\u001b[35m/usr/local/lib/python3.6/dist-packages/deepchecks/checks.py:24: DeprecationWarning:\u001b[0m\n",
      "\u001b[35mAbility to import tabular checks from the `deepchecks.checks` is deprecated, please import from `deepchecks.tabular.checks` instead\u001b[0m\n",
      "\u001b[35m/usr/local/lib/python3.6/dist-packages/deepchecks/__init__.py:131: DeprecationWarning:\u001b[0m\n",
      "\u001b[34mAbility to import base tabular functionality from the `deepchecks` package directly is deprecated, please import from `deepchecks.tabular` instead\n",
      " * Serving Flask app 'serve' (lazy loading)\n",
      " * Environment: production\n",
      "   WARNING: This is a development server. Do not use it in a production deployment.\n",
      "   Use a production WSGI server instead.\n",
      " * Debug mode: off\n",
      " * Running on all addresses.\n",
      "   WARNING: This is a development server. Do not use it in a production deployment.\n",
      " * Running on http://169.254.255.131:8080/ (Press CTRL+C to quit)\u001b[0m\n",
      "\u001b[35mAbility to import base tabular functionality from the `deepchecks` package directly is deprecated, please import from `deepchecks.tabular` instead\n",
      " * Serving Flask app 'serve' (lazy loading)\n",
      " * Environment: production\n",
      "   WARNING: This is a development server. Do not use it in a production deployment.\n",
      "   Use a production WSGI server instead.\n",
      " * Debug mode: off\n",
      " * Running on all addresses.\n",
      "   WARNING: This is a development server. Do not use it in a production deployment.\n",
      " * Running on http://169.254.255.131:8080/ (Press CTRL+C to quit)\u001b[0m\n",
      "\u001b[34m169.254.255.130 - - [06/Jul/2022 09:12:19] \"GET /ping HTTP/1.1\" 200 -\u001b[0m\n",
      "\u001b[34m169.254.255.130 - - [06/Jul/2022 09:12:19] \"#033[33mGET /execution-parameters HTTP/1.1#033[0m\" 404 -\u001b[0m\n",
      "\u001b[34mb'{\\'Data_Duplication - Train Dataset\\': Data Duplicates: 0.0, \\'Data_Duplication - Test Dataset\\': Data Duplicates: 0.0, \\'single_value_cols - Train Dataset\\': Single Value in Column: {\\'PassengerId\\': 655, \\'Pclass\\': 3, \\'Name\\': 637, \\'Sex\\': 2, \\'Age\\': 79, \\'SibSp\\': 7, \\'Parch\\': 7, \\'Ticket\\': 515, \\'Fare\\': 212, \\'Cabin\\': 125, \\'Embarked\\': 3, \\'Survived\\': 2}, \\'single_value_cols - Test Dataset\\': Single Value in Column: {\\'PassengerId\\': 281, \\'Pclass\\': 3, \\'Name\\': 279, \\'Sex\\': 2, \\'Age\\': 68, \\'SibSp\\': 7, \\'Parch\\': 6, \\'Ticket\\': 251, \\'Fare\\': 133, \\'Cabin\\': 51, \\'Embarked\\': 3, \\'Survived\\': 2}, \\'Mixed Data types - Train Dataset\\': Mixed Data Types: {\\'PassengerId\\': {}, \\'Pclass\\': {}, \\'Name\\': {}, \\'Sex\\': {}, \\'Age\\': {}, \\'SibSp\\': {}, \\'Parch\\': {}, \\'Ticket\\': {\\'strings\\': 0.2534351145038168, \\'numbers\\': 0.7465648854961832, \\'strings_examples\\': {\\'A/5 2817\\', \\'SW/PP 751\\', \\'S.O.C. 14879\\'}, \\'numbers_examples\\': {\\'250647\\', \\'374910\\', \\'113505\\'}}, \\'Fare\\': {}, \\'Cabin\\': {}, \\'Embarked\\': {}, \\'Survived\\': {}}, \\'Mixed Data types - Test Dataset\\': Mixed Data Types: {\\'PassengerId\\': {}, \\'Pclass\\': {}, \\'Name\\': {}, \\'Sex\\': {}, \\'Age\\': {}, \\'SibSp\\': {}, \\'Parch\\': {}, \\'Ticket\\': {\\'strings\\': 0.25622775800711745, \\'numbers\\': 0.7437722419928826, \\'strings_examples\\': {\\'W./C. 6608\\', \\'PC 17756\\', \\'PC 17485\\'}, \\'numbers_examples\\': {\\'29750\\', \\'2661\\', \\'3101278\\'}}, \\'Fare\\': {}, \\'Cabin\\': {}, \\'Embarked\\': {}, \\'Survived\\': {}}, \\'TrainTest Label Drift\\': Train Test Label Drift: {\\'Drift score\\': 0.0, \\'Method\\': \"Cramer\\'s V\"}}'\u001b[0m\n",
      "\u001b[34m169.254.255.130 - - [06/Jul/2022 09:12:20] \"POST /invocations HTTP/1.1\" 200 -\u001b[0m\n",
      "\u001b[35m169.254.255.130 - - [06/Jul/2022 09:12:19] \"GET /ping HTTP/1.1\" 200 -\u001b[0m\n",
      "\u001b[35m169.254.255.130 - - [06/Jul/2022 09:12:19] \"#033[33mGET /execution-parameters HTTP/1.1#033[0m\" 404 -\u001b[0m\n",
      "\u001b[35mb'{\\'Data_Duplication - Train Dataset\\': Data Duplicates: 0.0, \\'Data_Duplication - Test Dataset\\': Data Duplicates: 0.0, \\'single_value_cols - Train Dataset\\': Single Value in Column: {\\'PassengerId\\': 655, \\'Pclass\\': 3, \\'Name\\': 637, \\'Sex\\': 2, \\'Age\\': 79, \\'SibSp\\': 7, \\'Parch\\': 7, \\'Ticket\\': 515, \\'Fare\\': 212, \\'Cabin\\': 125, \\'Embarked\\': 3, \\'Survived\\': 2}, \\'single_value_cols - Test Dataset\\': Single Value in Column: {\\'PassengerId\\': 281, \\'Pclass\\': 3, \\'Name\\': 279, \\'Sex\\': 2, \\'Age\\': 68, \\'SibSp\\': 7, \\'Parch\\': 6, \\'Ticket\\': 251, \\'Fare\\': 133, \\'Cabin\\': 51, \\'Embarked\\': 3, \\'Survived\\': 2}, \\'Mixed Data types - Train Dataset\\': Mixed Data Types: {\\'PassengerId\\': {}, \\'Pclass\\': {}, \\'Name\\': {}, \\'Sex\\': {}, \\'Age\\': {}, \\'SibSp\\': {}, \\'Parch\\': {}, \\'Ticket\\': {\\'strings\\': 0.2534351145038168, \\'numbers\\': 0.7465648854961832, \\'strings_examples\\': {\\'A/5 2817\\', \\'SW/PP 751\\', \\'S.O.C. 14879\\'}, \\'numbers_examples\\': {\\'250647\\', \\'374910\\', \\'113505\\'}}, \\'Fare\\': {}, \\'Cabin\\': {}, \\'Embarked\\': {}, \\'Survived\\': {}}, \\'Mixed Data types - Test Dataset\\': Mixed Data Types: {\\'PassengerId\\': {}, \\'Pclass\\': {}, \\'Name\\': {}, \\'Sex\\': {}, \\'Age\\': {}, \\'SibSp\\': {}, \\'Parch\\': {}, \\'Ticket\\': {\\'strings\\': 0.25622775800711745, \\'numbers\\': 0.7437722419928826, \\'strings_examples\\': {\\'W./C. 6608\\', \\'PC 17756\\', \\'PC 17485\\'}, \\'numbers_examples\\': {\\'29750\\', \\'2661\\', \\'3101278\\'}}, \\'Fare\\': {}, \\'Cabin\\': {}, \\'Embarked\\': {}, \\'Survived\\': {}}, \\'TrainTest Label Drift\\': Train Test Label Drift: {\\'Drift score\\': 0.0, \\'Method\\': \"Cramer\\'s V\"}}'\u001b[0m\n",
      "\u001b[35m169.254.255.130 - - [06/Jul/2022 09:12:20] \"POST /invocations HTTP/1.1\" 200 -\u001b[0m\n",
      "\u001b[32m2022-07-06T09:12:19.886:[sagemaker logs]: MaxConcurrentTransforms=1, MaxPayloadInMB=6, BatchStrategy=MULTI_RECORD\u001b[0m\n"
     ]
    }
   ],
   "source": [
    "#Run the batch-transform job\n",
    "transformer = model.transformer(1, batch_transform_inference_instance_type)\n",
    "transformer.transform(transform_input, content_type=content_type)\n",
    "transformer.wait()"
   ]
  },
  {
   "cell_type": "code",
   "execution_count": 51,
   "metadata": {},
   "outputs": [
    {
     "name": "stdout",
     "output_type": "stream",
     "text": [
      "Output file loaded from bucket\n"
     ]
    }
   ],
   "source": [
    "import os\n",
    "s3_conn = boto3.client(\"s3\")\n",
    "with open('output2.json', 'wb') as f:\n",
    "    s3_conn.download_fileobj(bucket, os.path.basename(transformer.output_path)+'/Input.zip.out', f)\n",
    "    print(\"Output file loaded from bucket\")"
   ]
  },
  {
   "cell_type": "code",
   "execution_count": 53,
   "metadata": {},
   "outputs": [
    {
     "ename": "JSONDecodeError",
     "evalue": "Expecting property name enclosed in double quotes: line 1 column 2 (char 1)",
     "output_type": "error",
     "traceback": [
      "\u001b[0;31m---------------------------------------------------------------------------\u001b[0m",
      "\u001b[0;31mJSONDecodeError\u001b[0m                           Traceback (most recent call last)",
      "\u001b[0;32m<ipython-input-53-792eaa27343b>\u001b[0m in \u001b[0;36m<module>\u001b[0;34m\u001b[0m\n\u001b[1;32m      1\u001b[0m \u001b[0;32mwith\u001b[0m \u001b[0mopen\u001b[0m\u001b[0;34m(\u001b[0m\u001b[0;34m'output2.json'\u001b[0m\u001b[0;34m,\u001b[0m \u001b[0;34m'r'\u001b[0m\u001b[0;34m)\u001b[0m \u001b[0;32mas\u001b[0m \u001b[0mf\u001b[0m\u001b[0;34m:\u001b[0m\u001b[0;34m\u001b[0m\u001b[0;34m\u001b[0m\u001b[0m\n\u001b[0;32m----> 2\u001b[0;31m     \u001b[0moutput\u001b[0m \u001b[0;34m=\u001b[0m \u001b[0mjson\u001b[0m\u001b[0;34m.\u001b[0m\u001b[0mload\u001b[0m\u001b[0;34m(\u001b[0m\u001b[0mf\u001b[0m\u001b[0;34m)\u001b[0m\u001b[0;34m\u001b[0m\u001b[0;34m\u001b[0m\u001b[0m\n\u001b[0m\u001b[1;32m      3\u001b[0m \u001b[0mprint\u001b[0m\u001b[0;34m(\u001b[0m\u001b[0moutput\u001b[0m\u001b[0;34m)\u001b[0m\u001b[0;34m\u001b[0m\u001b[0;34m\u001b[0m\u001b[0m\n",
      "\u001b[0;32m~/anaconda3/envs/python3/lib/python3.6/json/__init__.py\u001b[0m in \u001b[0;36mload\u001b[0;34m(fp, cls, object_hook, parse_float, parse_int, parse_constant, object_pairs_hook, **kw)\u001b[0m\n\u001b[1;32m    297\u001b[0m         \u001b[0mcls\u001b[0m\u001b[0;34m=\u001b[0m\u001b[0mcls\u001b[0m\u001b[0;34m,\u001b[0m \u001b[0mobject_hook\u001b[0m\u001b[0;34m=\u001b[0m\u001b[0mobject_hook\u001b[0m\u001b[0;34m,\u001b[0m\u001b[0;34m\u001b[0m\u001b[0;34m\u001b[0m\u001b[0m\n\u001b[1;32m    298\u001b[0m         \u001b[0mparse_float\u001b[0m\u001b[0;34m=\u001b[0m\u001b[0mparse_float\u001b[0m\u001b[0;34m,\u001b[0m \u001b[0mparse_int\u001b[0m\u001b[0;34m=\u001b[0m\u001b[0mparse_int\u001b[0m\u001b[0;34m,\u001b[0m\u001b[0;34m\u001b[0m\u001b[0;34m\u001b[0m\u001b[0m\n\u001b[0;32m--> 299\u001b[0;31m         parse_constant=parse_constant, object_pairs_hook=object_pairs_hook, **kw)\n\u001b[0m\u001b[1;32m    300\u001b[0m \u001b[0;34m\u001b[0m\u001b[0m\n\u001b[1;32m    301\u001b[0m \u001b[0;34m\u001b[0m\u001b[0m\n",
      "\u001b[0;32m~/anaconda3/envs/python3/lib/python3.6/json/__init__.py\u001b[0m in \u001b[0;36mloads\u001b[0;34m(s, encoding, cls, object_hook, parse_float, parse_int, parse_constant, object_pairs_hook, **kw)\u001b[0m\n\u001b[1;32m    352\u001b[0m             \u001b[0mparse_int\u001b[0m \u001b[0;32mis\u001b[0m \u001b[0;32mNone\u001b[0m \u001b[0;32mand\u001b[0m \u001b[0mparse_float\u001b[0m \u001b[0;32mis\u001b[0m \u001b[0;32mNone\u001b[0m \u001b[0;32mand\u001b[0m\u001b[0;34m\u001b[0m\u001b[0;34m\u001b[0m\u001b[0m\n\u001b[1;32m    353\u001b[0m             parse_constant is None and object_pairs_hook is None and not kw):\n\u001b[0;32m--> 354\u001b[0;31m         \u001b[0;32mreturn\u001b[0m \u001b[0m_default_decoder\u001b[0m\u001b[0;34m.\u001b[0m\u001b[0mdecode\u001b[0m\u001b[0;34m(\u001b[0m\u001b[0ms\u001b[0m\u001b[0;34m)\u001b[0m\u001b[0;34m\u001b[0m\u001b[0;34m\u001b[0m\u001b[0m\n\u001b[0m\u001b[1;32m    355\u001b[0m     \u001b[0;32mif\u001b[0m \u001b[0mcls\u001b[0m \u001b[0;32mis\u001b[0m \u001b[0;32mNone\u001b[0m\u001b[0;34m:\u001b[0m\u001b[0;34m\u001b[0m\u001b[0;34m\u001b[0m\u001b[0m\n\u001b[1;32m    356\u001b[0m         \u001b[0mcls\u001b[0m \u001b[0;34m=\u001b[0m \u001b[0mJSONDecoder\u001b[0m\u001b[0;34m\u001b[0m\u001b[0;34m\u001b[0m\u001b[0m\n",
      "\u001b[0;32m~/anaconda3/envs/python3/lib/python3.6/json/decoder.py\u001b[0m in \u001b[0;36mdecode\u001b[0;34m(self, s, _w)\u001b[0m\n\u001b[1;32m    337\u001b[0m \u001b[0;34m\u001b[0m\u001b[0m\n\u001b[1;32m    338\u001b[0m         \"\"\"\n\u001b[0;32m--> 339\u001b[0;31m         \u001b[0mobj\u001b[0m\u001b[0;34m,\u001b[0m \u001b[0mend\u001b[0m \u001b[0;34m=\u001b[0m \u001b[0mself\u001b[0m\u001b[0;34m.\u001b[0m\u001b[0mraw_decode\u001b[0m\u001b[0;34m(\u001b[0m\u001b[0ms\u001b[0m\u001b[0;34m,\u001b[0m \u001b[0midx\u001b[0m\u001b[0;34m=\u001b[0m\u001b[0m_w\u001b[0m\u001b[0;34m(\u001b[0m\u001b[0ms\u001b[0m\u001b[0;34m,\u001b[0m \u001b[0;36m0\u001b[0m\u001b[0;34m)\u001b[0m\u001b[0;34m.\u001b[0m\u001b[0mend\u001b[0m\u001b[0;34m(\u001b[0m\u001b[0;34m)\u001b[0m\u001b[0;34m)\u001b[0m\u001b[0;34m\u001b[0m\u001b[0;34m\u001b[0m\u001b[0m\n\u001b[0m\u001b[1;32m    340\u001b[0m         \u001b[0mend\u001b[0m \u001b[0;34m=\u001b[0m \u001b[0m_w\u001b[0m\u001b[0;34m(\u001b[0m\u001b[0ms\u001b[0m\u001b[0;34m,\u001b[0m \u001b[0mend\u001b[0m\u001b[0;34m)\u001b[0m\u001b[0;34m.\u001b[0m\u001b[0mend\u001b[0m\u001b[0;34m(\u001b[0m\u001b[0;34m)\u001b[0m\u001b[0;34m\u001b[0m\u001b[0;34m\u001b[0m\u001b[0m\n\u001b[1;32m    341\u001b[0m         \u001b[0;32mif\u001b[0m \u001b[0mend\u001b[0m \u001b[0;34m!=\u001b[0m \u001b[0mlen\u001b[0m\u001b[0;34m(\u001b[0m\u001b[0ms\u001b[0m\u001b[0;34m)\u001b[0m\u001b[0;34m:\u001b[0m\u001b[0;34m\u001b[0m\u001b[0;34m\u001b[0m\u001b[0m\n",
      "\u001b[0;32m~/anaconda3/envs/python3/lib/python3.6/json/decoder.py\u001b[0m in \u001b[0;36mraw_decode\u001b[0;34m(self, s, idx)\u001b[0m\n\u001b[1;32m    353\u001b[0m         \"\"\"\n\u001b[1;32m    354\u001b[0m         \u001b[0;32mtry\u001b[0m\u001b[0;34m:\u001b[0m\u001b[0;34m\u001b[0m\u001b[0;34m\u001b[0m\u001b[0m\n\u001b[0;32m--> 355\u001b[0;31m             \u001b[0mobj\u001b[0m\u001b[0;34m,\u001b[0m \u001b[0mend\u001b[0m \u001b[0;34m=\u001b[0m \u001b[0mself\u001b[0m\u001b[0;34m.\u001b[0m\u001b[0mscan_once\u001b[0m\u001b[0;34m(\u001b[0m\u001b[0ms\u001b[0m\u001b[0;34m,\u001b[0m \u001b[0midx\u001b[0m\u001b[0;34m)\u001b[0m\u001b[0;34m\u001b[0m\u001b[0;34m\u001b[0m\u001b[0m\n\u001b[0m\u001b[1;32m    356\u001b[0m         \u001b[0;32mexcept\u001b[0m \u001b[0mStopIteration\u001b[0m \u001b[0;32mas\u001b[0m \u001b[0merr\u001b[0m\u001b[0;34m:\u001b[0m\u001b[0;34m\u001b[0m\u001b[0;34m\u001b[0m\u001b[0m\n\u001b[1;32m    357\u001b[0m             \u001b[0;32mraise\u001b[0m \u001b[0mJSONDecodeError\u001b[0m\u001b[0;34m(\u001b[0m\u001b[0;34m\"Expecting value\"\u001b[0m\u001b[0;34m,\u001b[0m \u001b[0ms\u001b[0m\u001b[0;34m,\u001b[0m \u001b[0merr\u001b[0m\u001b[0;34m.\u001b[0m\u001b[0mvalue\u001b[0m\u001b[0;34m)\u001b[0m \u001b[0;32mfrom\u001b[0m \u001b[0;32mNone\u001b[0m\u001b[0;34m\u001b[0m\u001b[0;34m\u001b[0m\u001b[0m\n",
      "\u001b[0;31mJSONDecodeError\u001b[0m: Expecting property name enclosed in double quotes: line 1 column 2 (char 1)"
     ]
    }
   ],
   "source": [
    "with open('output2.json', 'r') as f:\n",
    "    output = json.load(f)\n",
    "print(output)"
   ]
  },
  {
   "cell_type": "markdown",
   "metadata": {},
   "source": [
    "### 4. Clean-up"
   ]
  },
  {
   "cell_type": "markdown",
   "metadata": {},
   "source": [
    "#### A. Delete the model"
   ]
  },
  {
   "cell_type": "code",
   "execution_count": 18,
   "metadata": {},
   "outputs": [],
   "source": [
    "model.delete_model()"
   ]
  },
  {
   "cell_type": "markdown",
   "metadata": {},
   "source": [
    "#### B. Unsubscribe to the listing (optional)"
   ]
  },
  {
   "cell_type": "markdown",
   "metadata": {},
   "source": [
    "If you would like to unsubscribe to the model package, follow these steps. Before you cancel the subscription, ensure that you do not have any [deployable model](https://console.aws.amazon.com/sagemaker/home#/models) created from the model package or using the algorithm. Note - You can find this information by looking at the container name associated with the model. \n",
    "\n",
    "**Steps to unsubscribe to product from AWS Marketplace**:\n",
    "1. Navigate to __Machine Learning__ tab on [__Your Software subscriptions page__](https://aws.amazon.com/marketplace/ai/library?productType=ml&ref_=mlmp_gitdemo_indust)\n",
    "2. Locate the listing that you want to cancel the subscription for, and then choose __Cancel Subscription__  to cancel the subscription.\n",
    "\n"
   ]
  }
 ],
 "metadata": {
  "kernelspec": {
   "display_name": "conda_python3",
   "language": "python",
   "name": "conda_python3"
  },
  "language_info": {
   "codemirror_mode": {
    "name": "ipython",
    "version": 3
   },
   "file_extension": ".py",
   "mimetype": "text/x-python",
   "name": "python",
   "nbconvert_exporter": "python",
   "pygments_lexer": "ipython3",
   "version": "3.6.13"
  },
  "vscode": {
   "interpreter": {
    "hash": "ad4fd12c7bb79ee5e8eac05d8f6f268f524591a740466c0767fe6bc8ef55a552"
   }
  }
 },
 "nbformat": 4,
 "nbformat_minor": 2
}
